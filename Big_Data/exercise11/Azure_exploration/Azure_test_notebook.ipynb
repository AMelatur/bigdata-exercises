{
 "cells": [
  {
   "cell_type": "code",
   "execution_count": 3,
   "id": "15189674",
   "metadata": {
    "collapsed": true
   },
   "outputs": [
    {
     "name": "stdout",
     "output_type": "stream",
     "text": [
      "Requirement already satisfied: rumbledb in /Users/susiexirao/opt/anaconda3/lib/python3.8/site-packages (1.17.3)\n",
      "Requirement already satisfied: requests in /Users/susiexirao/opt/anaconda3/lib/python3.8/site-packages (from rumbledb) (2.24.0)\n",
      "Requirement already satisfied: jupyter in /Users/susiexirao/opt/anaconda3/lib/python3.8/site-packages (from rumbledb) (1.0.0)\n",
      "Requirement already satisfied: certifi>=2017.4.17 in /Users/susiexirao/opt/anaconda3/lib/python3.8/site-packages (from requests->rumbledb) (2020.6.20)\n",
      "Requirement already satisfied: chardet<4,>=3.0.2 in /Users/susiexirao/opt/anaconda3/lib/python3.8/site-packages (from requests->rumbledb) (3.0.4)\n",
      "Requirement already satisfied: idna<3,>=2.5 in /Users/susiexirao/opt/anaconda3/lib/python3.8/site-packages (from requests->rumbledb) (2.10)\n",
      "Requirement already satisfied: urllib3!=1.25.0,!=1.25.1,<1.26,>=1.21.1 in /Users/susiexirao/opt/anaconda3/lib/python3.8/site-packages (from requests->rumbledb) (1.25.9)\n",
      "Requirement already satisfied: notebook in /Users/susiexirao/opt/anaconda3/lib/python3.8/site-packages (from jupyter->rumbledb) (6.0.3)\n",
      "Requirement already satisfied: jupyter-console in /Users/susiexirao/opt/anaconda3/lib/python3.8/site-packages (from jupyter->rumbledb) (6.1.0)\n",
      "Requirement already satisfied: qtconsole in /Users/susiexirao/opt/anaconda3/lib/python3.8/site-packages (from jupyter->rumbledb) (4.7.5)\n",
      "Requirement already satisfied: nbconvert in /Users/susiexirao/opt/anaconda3/lib/python3.8/site-packages (from jupyter->rumbledb) (6.5.0)\n",
      "Requirement already satisfied: ipykernel in /Users/susiexirao/opt/anaconda3/lib/python3.8/site-packages (from jupyter->rumbledb) (5.3.2)\n",
      "Requirement already satisfied: ipywidgets in /Users/susiexirao/opt/anaconda3/lib/python3.8/site-packages (from jupyter->rumbledb) (7.7.1)\n",
      "Requirement already satisfied: pyzmq>=17 in /Users/susiexirao/opt/anaconda3/lib/python3.8/site-packages (from notebook->jupyter->rumbledb) (19.0.1)\n",
      "Requirement already satisfied: nbformat in /Users/susiexirao/opt/anaconda3/lib/python3.8/site-packages (from notebook->jupyter->rumbledb) (5.4.0)\n",
      "Requirement already satisfied: terminado>=0.8.1 in /Users/susiexirao/opt/anaconda3/lib/python3.8/site-packages (from notebook->jupyter->rumbledb) (0.8.3)\n",
      "Requirement already satisfied: jupyter-client>=5.3.4 in /Users/susiexirao/opt/anaconda3/lib/python3.8/site-packages (from notebook->jupyter->rumbledb) (7.3.4)\n",
      "Requirement already satisfied: jupyter-core>=4.6.1 in /Users/susiexirao/opt/anaconda3/lib/python3.8/site-packages (from notebook->jupyter->rumbledb) (5.1.0)\n",
      "Requirement already satisfied: ipython-genutils in /Users/susiexirao/opt/anaconda3/lib/python3.8/site-packages (from notebook->jupyter->rumbledb) (0.2.0)\n",
      "Requirement already satisfied: traitlets>=4.2.1 in /Users/susiexirao/opt/anaconda3/lib/python3.8/site-packages (from notebook->jupyter->rumbledb) (5.1.1)\n",
      "Requirement already satisfied: tornado>=5.0 in /Users/susiexirao/opt/anaconda3/lib/python3.8/site-packages (from notebook->jupyter->rumbledb) (6.2)\n",
      "Requirement already satisfied: jinja2 in /Users/susiexirao/opt/anaconda3/lib/python3.8/site-packages (from notebook->jupyter->rumbledb) (3.1.2)\n",
      "Requirement already satisfied: prometheus-client in /Users/susiexirao/opt/anaconda3/lib/python3.8/site-packages (from notebook->jupyter->rumbledb) (0.8.0)\n",
      "Requirement already satisfied: Send2Trash in /Users/susiexirao/opt/anaconda3/lib/python3.8/site-packages (from notebook->jupyter->rumbledb) (1.5.0)\n",
      "Requirement already satisfied: ipython in /Users/susiexirao/opt/anaconda3/lib/python3.8/site-packages (from jupyter-console->jupyter->rumbledb) (7.16.1)\n",
      "Requirement already satisfied: prompt-toolkit!=3.0.0,!=3.0.1,<3.1.0,>=2.0.0 in /Users/susiexirao/opt/anaconda3/lib/python3.8/site-packages (from jupyter-console->jupyter->rumbledb) (3.0.5)\n",
      "Requirement already satisfied: pygments in /Users/susiexirao/opt/anaconda3/lib/python3.8/site-packages (from jupyter-console->jupyter->rumbledb) (2.6.1)\n",
      "Requirement already satisfied: qtpy in /Users/susiexirao/opt/anaconda3/lib/python3.8/site-packages (from qtconsole->jupyter->rumbledb) (1.9.0)\n",
      "Requirement already satisfied: MarkupSafe>=2.0 in /Users/susiexirao/opt/anaconda3/lib/python3.8/site-packages (from nbconvert->jupyter->rumbledb) (2.1.1)\n",
      "Requirement already satisfied: packaging in /Users/susiexirao/opt/anaconda3/lib/python3.8/site-packages (from nbconvert->jupyter->rumbledb) (20.4)\n",
      "Requirement already satisfied: nbclient>=0.5.0 in /Users/susiexirao/opt/anaconda3/lib/python3.8/site-packages (from nbconvert->jupyter->rumbledb) (0.6.6)\n",
      "Requirement already satisfied: entrypoints>=0.2.2 in /Users/susiexirao/opt/anaconda3/lib/python3.8/site-packages (from nbconvert->jupyter->rumbledb) (0.3)\n",
      "Requirement already satisfied: tinycss2 in /Users/susiexirao/opt/anaconda3/lib/python3.8/site-packages (from nbconvert->jupyter->rumbledb) (1.1.1)\n",
      "Requirement already satisfied: pandocfilters>=1.4.1 in /Users/susiexirao/opt/anaconda3/lib/python3.8/site-packages (from nbconvert->jupyter->rumbledb) (1.4.2)\n",
      "Requirement already satisfied: beautifulsoup4 in /Users/susiexirao/opt/anaconda3/lib/python3.8/site-packages (from nbconvert->jupyter->rumbledb) (4.9.1)\n",
      "Requirement already satisfied: defusedxml in /Users/susiexirao/opt/anaconda3/lib/python3.8/site-packages (from nbconvert->jupyter->rumbledb) (0.6.0)\n",
      "Requirement already satisfied: mistune<2,>=0.8.1 in /Users/susiexirao/opt/anaconda3/lib/python3.8/site-packages (from nbconvert->jupyter->rumbledb) (0.8.4)\n",
      "Requirement already satisfied: bleach in /Users/susiexirao/opt/anaconda3/lib/python3.8/site-packages (from nbconvert->jupyter->rumbledb) (3.1.5)\n",
      "Requirement already satisfied: jupyterlab-pygments in /Users/susiexirao/opt/anaconda3/lib/python3.8/site-packages (from nbconvert->jupyter->rumbledb) (0.2.2)\n",
      "Requirement already satisfied: appnope; platform_system == \"Darwin\" in /Users/susiexirao/opt/anaconda3/lib/python3.8/site-packages (from ipykernel->jupyter->rumbledb) (0.1.0)\n",
      "Requirement already satisfied: widgetsnbextension~=3.6.0 in /Users/susiexirao/opt/anaconda3/lib/python3.8/site-packages (from ipywidgets->jupyter->rumbledb) (3.6.1)\n",
      "Requirement already satisfied: jupyterlab-widgets>=1.0.0; python_version >= \"3.6\" in /Users/susiexirao/opt/anaconda3/lib/python3.8/site-packages (from ipywidgets->jupyter->rumbledb) (1.1.1)\n",
      "Requirement already satisfied: jsonschema>=2.6 in /Users/susiexirao/opt/anaconda3/lib/python3.8/site-packages (from nbformat->notebook->jupyter->rumbledb) (3.2.0)\n",
      "Requirement already satisfied: fastjsonschema in /Users/susiexirao/opt/anaconda3/lib/python3.8/site-packages (from nbformat->notebook->jupyter->rumbledb) (2.16.1)\n",
      "Requirement already satisfied: nest-asyncio>=1.5.4 in /Users/susiexirao/opt/anaconda3/lib/python3.8/site-packages (from jupyter-client>=5.3.4->notebook->jupyter->rumbledb) (1.5.5)\n",
      "Requirement already satisfied: python-dateutil>=2.8.2 in /Users/susiexirao/opt/anaconda3/lib/python3.8/site-packages (from jupyter-client>=5.3.4->notebook->jupyter->rumbledb) (2.8.2)\n",
      "Requirement already satisfied: platformdirs>=2.5 in /Users/susiexirao/opt/anaconda3/lib/python3.8/site-packages (from jupyter-core>=4.6.1->notebook->jupyter->rumbledb) (2.5.4)\n",
      "Requirement already satisfied: pexpect; sys_platform != \"win32\" in /Users/susiexirao/opt/anaconda3/lib/python3.8/site-packages (from ipython->jupyter-console->jupyter->rumbledb) (4.8.0)\n",
      "Requirement already satisfied: decorator in /Users/susiexirao/opt/anaconda3/lib/python3.8/site-packages (from ipython->jupyter-console->jupyter->rumbledb) (4.4.2)\n",
      "Requirement already satisfied: jedi>=0.10 in /Users/susiexirao/opt/anaconda3/lib/python3.8/site-packages (from ipython->jupyter-console->jupyter->rumbledb) (0.17.1)\n",
      "Requirement already satisfied: setuptools>=18.5 in /Users/susiexirao/opt/anaconda3/lib/python3.8/site-packages (from ipython->jupyter-console->jupyter->rumbledb) (63.4.2)\n",
      "Requirement already satisfied: backcall in /Users/susiexirao/opt/anaconda3/lib/python3.8/site-packages (from ipython->jupyter-console->jupyter->rumbledb) (0.2.0)\n",
      "Requirement already satisfied: pickleshare in /Users/susiexirao/opt/anaconda3/lib/python3.8/site-packages (from ipython->jupyter-console->jupyter->rumbledb) (0.7.5)\n",
      "Requirement already satisfied: wcwidth in /Users/susiexirao/opt/anaconda3/lib/python3.8/site-packages (from prompt-toolkit!=3.0.0,!=3.0.1,<3.1.0,>=2.0.0->jupyter-console->jupyter->rumbledb) (0.2.5)\n",
      "Requirement already satisfied: pyparsing>=2.0.2 in /Users/susiexirao/opt/anaconda3/lib/python3.8/site-packages (from packaging->nbconvert->jupyter->rumbledb) (2.4.7)\n",
      "Requirement already satisfied: six in /Users/susiexirao/opt/anaconda3/lib/python3.8/site-packages (from packaging->nbconvert->jupyter->rumbledb) (1.15.0)\n",
      "Requirement already satisfied: webencodings>=0.4 in /Users/susiexirao/opt/anaconda3/lib/python3.8/site-packages (from tinycss2->nbconvert->jupyter->rumbledb) (0.5.1)\n",
      "Requirement already satisfied: soupsieve>1.2 in /Users/susiexirao/opt/anaconda3/lib/python3.8/site-packages (from beautifulsoup4->nbconvert->jupyter->rumbledb) (2.0.1)\n",
      "Requirement already satisfied: attrs>=17.4.0 in /Users/susiexirao/opt/anaconda3/lib/python3.8/site-packages (from jsonschema>=2.6->nbformat->notebook->jupyter->rumbledb) (19.3.0)\n"
     ]
    },
    {
     "name": "stdout",
     "output_type": "stream",
     "text": [
      "Requirement already satisfied: pyrsistent>=0.14.0 in /Users/susiexirao/opt/anaconda3/lib/python3.8/site-packages (from jsonschema>=2.6->nbformat->notebook->jupyter->rumbledb) (0.16.0)\n",
      "Requirement already satisfied: ptyprocess>=0.5 in /Users/susiexirao/opt/anaconda3/lib/python3.8/site-packages (from pexpect; sys_platform != \"win32\"->ipython->jupyter-console->jupyter->rumbledb) (0.6.0)\n",
      "Requirement already satisfied: parso<0.8.0,>=0.7.0 in /Users/susiexirao/opt/anaconda3/lib/python3.8/site-packages (from jedi>=0.10->ipython->jupyter-console->jupyter->rumbledb) (0.7.0)\n",
      "The rumbledb extension is already loaded. To reload it, use:\n",
      "  %reload_ext rumbledb\n",
      "env: RUMBLEDB_SERVER=http://localhost:8002/jsoniq\n"
     ]
    }
   ],
   "source": [
    "!pip install rumbledb\n",
    "%load_ext rumbledb\n",
    "%env RUMBLEDB_SERVER=http://localhost:8002/jsoniq\n"
   ]
  },
  {
   "cell_type": "code",
   "execution_count": 4,
   "id": "043f669c",
   "metadata": {},
   "outputs": [
    {
     "name": "stdout",
     "output_type": "stream",
     "text": [
      "Took: 0.9881229400634766 ms\n",
      "{\"pi\": 3.14, \"sq2\": 1.4}\n"
     ]
    }
   ],
   "source": [
    "%%jsoniq\n",
    "{ \"pi\" : 3.14, \"sq2\" : 1.4 }"
   ]
  },
  {
   "cell_type": "code",
   "execution_count": 5,
   "id": "bab63597",
   "metadata": {},
   "outputs": [
    {
     "name": "stdout",
     "output_type": "stream",
     "text": [
      "Took: 26.92125678062439 ms\n",
      "36577\n"
     ]
    }
   ],
   "source": [
    "%%jsoniq\n",
    "count(json-file(\"wasbs://newcontainer@rumbledb.blob.core.windows.net/git-archive.json\"))\n"
   ]
  },
  {
   "cell_type": "code",
   "execution_count": null,
   "id": "e5a46f50",
   "metadata": {},
   "outputs": [],
   "source": []
  }
 ],
 "metadata": {
  "kernelspec": {
   "display_name": "Python 3",
   "language": "python",
   "name": "python3"
  },
  "language_info": {
   "codemirror_mode": {
    "name": "ipython",
    "version": 3
   },
   "file_extension": ".py",
   "mimetype": "text/x-python",
   "name": "python",
   "nbconvert_exporter": "python",
   "pygments_lexer": "ipython3",
   "version": "3.8.3"
  }
 },
 "nbformat": 4,
 "nbformat_minor": 5
}
